{
 "cells": [
  {
   "cell_type": "code",
   "execution_count": 1,
   "metadata": {
    "id": "454i_9dAK50q"
   },
   "outputs": [],
   "source": [
    "#pip install mlxtend"
   ]
  },
  {
   "cell_type": "code",
   "execution_count": 2,
   "metadata": {},
   "outputs": [],
   "source": [
    "import mlxtend"
   ]
  },
  {
   "cell_type": "code",
   "execution_count": 3,
   "metadata": {
    "id": "sCCMm_CZWbd3"
   },
   "outputs": [],
   "source": [
    "import pandas as pd\n",
    "import numpy as np\n",
    "import matplotlib.pyplot as plt\n",
    "import seaborn as sns\n",
    "from mlxtend.frequent_patterns import apriori,association_rules"
   ]
  },
  {
   "cell_type": "code",
   "execution_count": 4,
   "metadata": {
    "colab": {
     "base_uri": "https://localhost:8080/",
     "height": 423
    },
    "id": "TrT7ZvKff1A3",
    "outputId": "aa42e627-f49f-4ff5-eae1-d85ab6043e5f"
   },
   "outputs": [
    {
     "data": {
      "text/html": [
       "<div>\n",
       "<style scoped>\n",
       "    .dataframe tbody tr th:only-of-type {\n",
       "        vertical-align: middle;\n",
       "    }\n",
       "\n",
       "    .dataframe tbody tr th {\n",
       "        vertical-align: top;\n",
       "    }\n",
       "\n",
       "    .dataframe thead th {\n",
       "        text-align: right;\n",
       "    }\n",
       "</style>\n",
       "<table border=\"1\" class=\"dataframe\">\n",
       "  <thead>\n",
       "    <tr style=\"text-align: right;\">\n",
       "      <th></th>\n",
       "      <th>ChildBks</th>\n",
       "      <th>YouthBks</th>\n",
       "      <th>CookBks</th>\n",
       "      <th>DoItYBks</th>\n",
       "      <th>RefBks</th>\n",
       "      <th>ArtBks</th>\n",
       "      <th>GeogBks</th>\n",
       "      <th>ItalCook</th>\n",
       "      <th>ItalAtlas</th>\n",
       "      <th>ItalArt</th>\n",
       "      <th>Florence</th>\n",
       "    </tr>\n",
       "  </thead>\n",
       "  <tbody>\n",
       "    <tr>\n",
       "      <th>0</th>\n",
       "      <td>0</td>\n",
       "      <td>1</td>\n",
       "      <td>0</td>\n",
       "      <td>1</td>\n",
       "      <td>0</td>\n",
       "      <td>0</td>\n",
       "      <td>1</td>\n",
       "      <td>0</td>\n",
       "      <td>0</td>\n",
       "      <td>0</td>\n",
       "      <td>0</td>\n",
       "    </tr>\n",
       "    <tr>\n",
       "      <th>1</th>\n",
       "      <td>1</td>\n",
       "      <td>0</td>\n",
       "      <td>0</td>\n",
       "      <td>0</td>\n",
       "      <td>0</td>\n",
       "      <td>0</td>\n",
       "      <td>0</td>\n",
       "      <td>0</td>\n",
       "      <td>0</td>\n",
       "      <td>0</td>\n",
       "      <td>0</td>\n",
       "    </tr>\n",
       "    <tr>\n",
       "      <th>2</th>\n",
       "      <td>0</td>\n",
       "      <td>0</td>\n",
       "      <td>0</td>\n",
       "      <td>0</td>\n",
       "      <td>0</td>\n",
       "      <td>0</td>\n",
       "      <td>0</td>\n",
       "      <td>0</td>\n",
       "      <td>0</td>\n",
       "      <td>0</td>\n",
       "      <td>0</td>\n",
       "    </tr>\n",
       "    <tr>\n",
       "      <th>3</th>\n",
       "      <td>1</td>\n",
       "      <td>1</td>\n",
       "      <td>1</td>\n",
       "      <td>0</td>\n",
       "      <td>1</td>\n",
       "      <td>0</td>\n",
       "      <td>1</td>\n",
       "      <td>0</td>\n",
       "      <td>0</td>\n",
       "      <td>0</td>\n",
       "      <td>0</td>\n",
       "    </tr>\n",
       "    <tr>\n",
       "      <th>4</th>\n",
       "      <td>0</td>\n",
       "      <td>0</td>\n",
       "      <td>1</td>\n",
       "      <td>0</td>\n",
       "      <td>0</td>\n",
       "      <td>0</td>\n",
       "      <td>1</td>\n",
       "      <td>0</td>\n",
       "      <td>0</td>\n",
       "      <td>0</td>\n",
       "      <td>0</td>\n",
       "    </tr>\n",
       "    <tr>\n",
       "      <th>...</th>\n",
       "      <td>...</td>\n",
       "      <td>...</td>\n",
       "      <td>...</td>\n",
       "      <td>...</td>\n",
       "      <td>...</td>\n",
       "      <td>...</td>\n",
       "      <td>...</td>\n",
       "      <td>...</td>\n",
       "      <td>...</td>\n",
       "      <td>...</td>\n",
       "      <td>...</td>\n",
       "    </tr>\n",
       "    <tr>\n",
       "      <th>1995</th>\n",
       "      <td>0</td>\n",
       "      <td>0</td>\n",
       "      <td>1</td>\n",
       "      <td>0</td>\n",
       "      <td>0</td>\n",
       "      <td>1</td>\n",
       "      <td>1</td>\n",
       "      <td>1</td>\n",
       "      <td>0</td>\n",
       "      <td>1</td>\n",
       "      <td>1</td>\n",
       "    </tr>\n",
       "    <tr>\n",
       "      <th>1996</th>\n",
       "      <td>0</td>\n",
       "      <td>0</td>\n",
       "      <td>0</td>\n",
       "      <td>0</td>\n",
       "      <td>0</td>\n",
       "      <td>0</td>\n",
       "      <td>0</td>\n",
       "      <td>0</td>\n",
       "      <td>0</td>\n",
       "      <td>0</td>\n",
       "      <td>0</td>\n",
       "    </tr>\n",
       "    <tr>\n",
       "      <th>1997</th>\n",
       "      <td>0</td>\n",
       "      <td>0</td>\n",
       "      <td>0</td>\n",
       "      <td>0</td>\n",
       "      <td>0</td>\n",
       "      <td>0</td>\n",
       "      <td>0</td>\n",
       "      <td>0</td>\n",
       "      <td>0</td>\n",
       "      <td>0</td>\n",
       "      <td>0</td>\n",
       "    </tr>\n",
       "    <tr>\n",
       "      <th>1998</th>\n",
       "      <td>0</td>\n",
       "      <td>0</td>\n",
       "      <td>1</td>\n",
       "      <td>0</td>\n",
       "      <td>0</td>\n",
       "      <td>0</td>\n",
       "      <td>0</td>\n",
       "      <td>0</td>\n",
       "      <td>0</td>\n",
       "      <td>0</td>\n",
       "      <td>0</td>\n",
       "    </tr>\n",
       "    <tr>\n",
       "      <th>1999</th>\n",
       "      <td>0</td>\n",
       "      <td>0</td>\n",
       "      <td>0</td>\n",
       "      <td>0</td>\n",
       "      <td>0</td>\n",
       "      <td>0</td>\n",
       "      <td>0</td>\n",
       "      <td>0</td>\n",
       "      <td>0</td>\n",
       "      <td>0</td>\n",
       "      <td>0</td>\n",
       "    </tr>\n",
       "  </tbody>\n",
       "</table>\n",
       "<p>2000 rows × 11 columns</p>\n",
       "</div>"
      ],
      "text/plain": [
       "      ChildBks  YouthBks  CookBks  DoItYBks  RefBks  ArtBks  GeogBks  \\\n",
       "0            0         1        0         1       0       0        1   \n",
       "1            1         0        0         0       0       0        0   \n",
       "2            0         0        0         0       0       0        0   \n",
       "3            1         1        1         0       1       0        1   \n",
       "4            0         0        1         0       0       0        1   \n",
       "...        ...       ...      ...       ...     ...     ...      ...   \n",
       "1995         0         0        1         0       0       1        1   \n",
       "1996         0         0        0         0       0       0        0   \n",
       "1997         0         0        0         0       0       0        0   \n",
       "1998         0         0        1         0       0       0        0   \n",
       "1999         0         0        0         0       0       0        0   \n",
       "\n",
       "      ItalCook  ItalAtlas  ItalArt  Florence  \n",
       "0            0          0        0         0  \n",
       "1            0          0        0         0  \n",
       "2            0          0        0         0  \n",
       "3            0          0        0         0  \n",
       "4            0          0        0         0  \n",
       "...        ...        ...      ...       ...  \n",
       "1995         1          0        1         1  \n",
       "1996         0          0        0         0  \n",
       "1997         0          0        0         0  \n",
       "1998         0          0        0         0  \n",
       "1999         0          0        0         0  \n",
       "\n",
       "[2000 rows x 11 columns]"
      ]
     },
     "execution_count": 4,
     "metadata": {},
     "output_type": "execute_result"
    }
   ],
   "source": [
    "df=pd.read_csv(\"../Assignment 9-Association Rules/book.csv\")\n",
    "df"
   ]
  },
  {
   "cell_type": "code",
   "execution_count": 5,
   "metadata": {
    "colab": {
     "base_uri": "https://localhost:8080/"
    },
    "id": "ExkyD5bef1D-",
    "outputId": "fd2667b5-503c-44c0-f24c-cd7ce7ec3a8d"
   },
   "outputs": [
    {
     "data": {
      "text/plain": [
       "Index(['ChildBks', 'YouthBks', 'CookBks', 'DoItYBks', 'RefBks', 'ArtBks',\n",
       "       'GeogBks', 'ItalCook', 'ItalAtlas', 'ItalArt', 'Florence'],\n",
       "      dtype='object')"
      ]
     },
     "execution_count": 5,
     "metadata": {},
     "output_type": "execute_result"
    }
   ],
   "source": [
    "df.columns"
   ]
  },
  {
   "cell_type": "code",
   "execution_count": 6,
   "metadata": {
    "colab": {
     "base_uri": "https://localhost:8080/"
    },
    "id": "4mFKrWQ7f1Hu",
    "outputId": "29b10e09-51db-4a3b-c7f1-c666e937a59f"
   },
   "outputs": [
    {
     "data": {
      "text/plain": [
       "0    1154\n",
       "1     846\n",
       "Name: ChildBks, dtype: int64"
      ]
     },
     "execution_count": 6,
     "metadata": {},
     "output_type": "execute_result"
    }
   ],
   "source": [
    "df['ChildBks'].value_counts()"
   ]
  },
  {
   "cell_type": "code",
   "execution_count": 7,
   "metadata": {
    "colab": {
     "base_uri": "https://localhost:8080/"
    },
    "id": "fZtuIO-tf1LR",
    "outputId": "fcb302e5-c8a6-4bd9-a0b9-25d5ce30ea83"
   },
   "outputs": [
    {
     "data": {
      "text/plain": [
       "0    1518\n",
       "1     482\n",
       "Name: ArtBks, dtype: int64"
      ]
     },
     "execution_count": 7,
     "metadata": {},
     "output_type": "execute_result"
    }
   ],
   "source": [
    "df['ArtBks'].value_counts()"
   ]
  },
  {
   "cell_type": "code",
   "execution_count": 8,
   "metadata": {
    "colab": {
     "base_uri": "https://localhost:8080/"
    },
    "id": "gyogMgORf1Oh",
    "outputId": "d7e9717a-e250-4d78-f297-b4570bc93420"
   },
   "outputs": [
    {
     "data": {
      "text/plain": [
       "0    1138\n",
       "1     862\n",
       "Name: CookBks, dtype: int64"
      ]
     },
     "execution_count": 8,
     "metadata": {},
     "output_type": "execute_result"
    }
   ],
   "source": [
    "df['CookBks'].value_counts()"
   ]
  },
  {
   "cell_type": "code",
   "execution_count": 9,
   "metadata": {
    "colab": {
     "base_uri": "https://localhost:8080/"
    },
    "id": "EDqkBf2ff1Rh",
    "outputId": "8bb40090-d57d-4972-c9cb-316bbcc61b2d"
   },
   "outputs": [
    {
     "data": {
      "text/plain": [
       "0    1436\n",
       "1     564\n",
       "Name: DoItYBks, dtype: int64"
      ]
     },
     "execution_count": 9,
     "metadata": {},
     "output_type": "execute_result"
    }
   ],
   "source": [
    "df['DoItYBks'].value_counts()\n"
   ]
  },
  {
   "cell_type": "code",
   "execution_count": 10,
   "metadata": {
    "colab": {
     "base_uri": "https://localhost:8080/"
    },
    "id": "s5411xTyf1XV",
    "outputId": "4357d8f3-c7d6-4ccc-d8d8-89ff952332c1"
   },
   "outputs": [
    {
     "data": {
      "text/plain": [
       "0    1783\n",
       "1     217\n",
       "Name: Florence, dtype: int64"
      ]
     },
     "execution_count": 10,
     "metadata": {},
     "output_type": "execute_result"
    }
   ],
   "source": [
    "df['Florence'].value_counts()\n"
   ]
  },
  {
   "cell_type": "code",
   "execution_count": 11,
   "metadata": {
    "colab": {
     "base_uri": "https://localhost:8080/"
    },
    "id": "IhfURgmUf1at",
    "outputId": "40f36499-e8e5-42bd-d7e0-826d5f4e9b3a"
   },
   "outputs": [
    {
     "data": {
      "text/plain": [
       "0    1448\n",
       "1     552\n",
       "Name: GeogBks, dtype: int64"
      ]
     },
     "execution_count": 11,
     "metadata": {},
     "output_type": "execute_result"
    }
   ],
   "source": [
    "df['GeogBks'].value_counts()\n"
   ]
  },
  {
   "cell_type": "code",
   "execution_count": 12,
   "metadata": {
    "colab": {
     "base_uri": "https://localhost:8080/"
    },
    "id": "hObzTyLUf1d3",
    "outputId": "aef511a2-6ab3-4d91-8916-ba75fe84b397"
   },
   "outputs": [
    {
     "data": {
      "text/plain": [
       "0    1903\n",
       "1      97\n",
       "Name: ItalArt, dtype: int64"
      ]
     },
     "execution_count": 12,
     "metadata": {},
     "output_type": "execute_result"
    }
   ],
   "source": [
    "df['ItalArt'].value_counts()\n"
   ]
  },
  {
   "cell_type": "code",
   "execution_count": 13,
   "metadata": {
    "colab": {
     "base_uri": "https://localhost:8080/"
    },
    "id": "mxCORHG1lWlW",
    "outputId": "ade6b77d-9a81-4e0f-d0c1-886b0e1b33e9"
   },
   "outputs": [
    {
     "data": {
      "text/plain": [
       "0    1926\n",
       "1      74\n",
       "Name: ItalAtlas, dtype: int64"
      ]
     },
     "execution_count": 13,
     "metadata": {},
     "output_type": "execute_result"
    }
   ],
   "source": [
    "df['ItalAtlas'].value_counts()\n"
   ]
  },
  {
   "cell_type": "code",
   "execution_count": 14,
   "metadata": {
    "colab": {
     "base_uri": "https://localhost:8080/"
    },
    "id": "1vkDOwq1lWp-",
    "outputId": "0c23344d-0433-46a9-bdd4-23b29f76923f"
   },
   "outputs": [
    {
     "data": {
      "text/plain": [
       "0    1773\n",
       "1     227\n",
       "Name: ItalCook, dtype: int64"
      ]
     },
     "execution_count": 14,
     "metadata": {},
     "output_type": "execute_result"
    }
   ],
   "source": [
    "df['ItalCook'].value_counts()\n"
   ]
  },
  {
   "cell_type": "code",
   "execution_count": 15,
   "metadata": {
    "colab": {
     "base_uri": "https://localhost:8080/"
    },
    "id": "xweLCksSlWth",
    "outputId": "4a86bc43-7c62-4692-bb35-4d8364335441"
   },
   "outputs": [
    {
     "data": {
      "text/plain": [
       "0    1571\n",
       "1     429\n",
       "Name: RefBks, dtype: int64"
      ]
     },
     "execution_count": 15,
     "metadata": {},
     "output_type": "execute_result"
    }
   ],
   "source": [
    "df['RefBks'].value_counts()\n"
   ]
  },
  {
   "cell_type": "code",
   "execution_count": 16,
   "metadata": {
    "colab": {
     "base_uri": "https://localhost:8080/"
    },
    "id": "CkvYOoK-lWw5",
    "outputId": "d0435253-3fb6-4879-d359-6fbff002fe16"
   },
   "outputs": [
    {
     "data": {
      "text/plain": [
       "0    1505\n",
       "1     495\n",
       "Name: YouthBks, dtype: int64"
      ]
     },
     "execution_count": 16,
     "metadata": {},
     "output_type": "execute_result"
    }
   ],
   "source": [
    "df['YouthBks'].value_counts()"
   ]
  },
  {
   "cell_type": "markdown",
   "metadata": {
    "id": "c0aeHLiGYsVM"
   },
   "source": [
    "# In the below, we can observe that we made a trail by changing the values of min_support to 0.05, 0.08, 0.1, and 0.2."
   ]
  },
  {
   "cell_type": "code",
   "execution_count": 17,
   "metadata": {},
   "outputs": [],
   "source": [
    "# Supressing Warnings\n",
    "import warnings\n",
    "warnings.filterwarnings('ignore')"
   ]
  },
  {
   "cell_type": "code",
   "execution_count": 18,
   "metadata": {
    "colab": {
     "base_uri": "https://localhost:8080/"
    },
    "id": "CS65o3yWlfl_",
    "outputId": "393f8210-62ed-4830-d1b7-374a911a03f6"
   },
   "outputs": [
    {
     "name": "stdout",
     "output_type": "stream",
     "text": [
      "<class 'pandas.core.frame.DataFrame'>\n",
      "RangeIndex: 100 entries, 0 to 99\n",
      "Data columns (total 2 columns):\n",
      " #   Column    Non-Null Count  Dtype  \n",
      "---  ------    --------------  -----  \n",
      " 0   support   100 non-null    float64\n",
      " 1   itemsets  100 non-null    object \n",
      "dtypes: float64(1), object(1)\n",
      "memory usage: 1.7+ KB\n"
     ]
    }
   ],
   "source": [
    "frequent_itemsets=apriori(df,min_support=0.05,use_colnames=True)\n",
    "frequent_itemsets.info()"
   ]
  },
  {
   "cell_type": "code",
   "execution_count": 19,
   "metadata": {
    "colab": {
     "base_uri": "https://localhost:8080/"
    },
    "id": "weWeAtCSUWKf",
    "outputId": "556c8e7b-d892-40d9-dcfe-c966ca8b1a2b"
   },
   "outputs": [
    {
     "name": "stdout",
     "output_type": "stream",
     "text": [
      "<class 'pandas.core.frame.DataFrame'>\n",
      "RangeIndex: 60 entries, 0 to 59\n",
      "Data columns (total 2 columns):\n",
      " #   Column    Non-Null Count  Dtype  \n",
      "---  ------    --------------  -----  \n",
      " 0   support   60 non-null     float64\n",
      " 1   itemsets  60 non-null     object \n",
      "dtypes: float64(1), object(1)\n",
      "memory usage: 1.1+ KB\n"
     ]
    }
   ],
   "source": [
    "frequent_itemsets_1=apriori(df,min_support=0.08,use_colnames=True)\n",
    "frequent_itemsets_1.info()"
   ]
  },
  {
   "cell_type": "code",
   "execution_count": 20,
   "metadata": {
    "colab": {
     "base_uri": "https://localhost:8080/"
    },
    "id": "O08UORl0UWOF",
    "outputId": "9212997e-cc28-4f56-8c18-ae90ab193c34"
   },
   "outputs": [
    {
     "name": "stdout",
     "output_type": "stream",
     "text": [
      "<class 'pandas.core.frame.DataFrame'>\n",
      "RangeIndex: 39 entries, 0 to 38\n",
      "Data columns (total 2 columns):\n",
      " #   Column    Non-Null Count  Dtype  \n",
      "---  ------    --------------  -----  \n",
      " 0   support   39 non-null     float64\n",
      " 1   itemsets  39 non-null     object \n",
      "dtypes: float64(1), object(1)\n",
      "memory usage: 756.0+ bytes\n"
     ]
    }
   ],
   "source": [
    "frequent_itemsets_2=apriori(df,min_support=0.1,use_colnames=True)\n",
    "frequent_itemsets_2.info()"
   ]
  },
  {
   "cell_type": "code",
   "execution_count": 21,
   "metadata": {
    "colab": {
     "base_uri": "https://localhost:8080/"
    },
    "id": "Z2P60fQhUWVk",
    "outputId": "0c83fe77-c764-4136-bb75-c88bbe0027f5"
   },
   "outputs": [
    {
     "name": "stdout",
     "output_type": "stream",
     "text": [
      "<class 'pandas.core.frame.DataFrame'>\n",
      "RangeIndex: 8 entries, 0 to 7\n",
      "Data columns (total 2 columns):\n",
      " #   Column    Non-Null Count  Dtype  \n",
      "---  ------    --------------  -----  \n",
      " 0   support   8 non-null      float64\n",
      " 1   itemsets  8 non-null      object \n",
      "dtypes: float64(1), object(1)\n",
      "memory usage: 260.0+ bytes\n"
     ]
    }
   ],
   "source": [
    "frequent_itemsets_3=apriori(df,min_support=0.2,use_colnames=True)\n",
    "frequent_itemsets_3.info()"
   ]
  },
  {
   "cell_type": "markdown",
   "metadata": {
    "id": "jGBmACiVViLX"
   },
   "source": [
    "# Here we are considering the min_support value as '0.05','0.08', which contains more possible outcomes."
   ]
  },
  {
   "cell_type": "code",
   "execution_count": 22,
   "metadata": {
    "colab": {
     "base_uri": "https://localhost:8080/",
     "height": 423
    },
    "id": "4gG93-tIlfqO",
    "outputId": "7ed86bbb-df59-4c6b-aeb7-d81f8a737670"
   },
   "outputs": [
    {
     "data": {
      "text/html": [
       "<div>\n",
       "<style scoped>\n",
       "    .dataframe tbody tr th:only-of-type {\n",
       "        vertical-align: middle;\n",
       "    }\n",
       "\n",
       "    .dataframe tbody tr th {\n",
       "        vertical-align: top;\n",
       "    }\n",
       "\n",
       "    .dataframe thead th {\n",
       "        text-align: right;\n",
       "    }\n",
       "</style>\n",
       "<table border=\"1\" class=\"dataframe\">\n",
       "  <thead>\n",
       "    <tr style=\"text-align: right;\">\n",
       "      <th></th>\n",
       "      <th>antecedents</th>\n",
       "      <th>consequents</th>\n",
       "      <th>antecedent support</th>\n",
       "      <th>consequent support</th>\n",
       "      <th>support</th>\n",
       "      <th>confidence</th>\n",
       "      <th>lift</th>\n",
       "      <th>leverage</th>\n",
       "      <th>conviction</th>\n",
       "      <th>zhangs_metric</th>\n",
       "    </tr>\n",
       "  </thead>\n",
       "  <tbody>\n",
       "    <tr>\n",
       "      <th>0</th>\n",
       "      <td>(ChildBks)</td>\n",
       "      <td>(YouthBks)</td>\n",
       "      <td>0.4230</td>\n",
       "      <td>0.2475</td>\n",
       "      <td>0.1650</td>\n",
       "      <td>0.390071</td>\n",
       "      <td>1.576044</td>\n",
       "      <td>0.060308</td>\n",
       "      <td>1.233750</td>\n",
       "      <td>0.633449</td>\n",
       "    </tr>\n",
       "    <tr>\n",
       "      <th>1</th>\n",
       "      <td>(YouthBks)</td>\n",
       "      <td>(ChildBks)</td>\n",
       "      <td>0.2475</td>\n",
       "      <td>0.4230</td>\n",
       "      <td>0.1650</td>\n",
       "      <td>0.666667</td>\n",
       "      <td>1.576044</td>\n",
       "      <td>0.060308</td>\n",
       "      <td>1.731000</td>\n",
       "      <td>0.485714</td>\n",
       "    </tr>\n",
       "    <tr>\n",
       "      <th>2</th>\n",
       "      <td>(ChildBks)</td>\n",
       "      <td>(CookBks)</td>\n",
       "      <td>0.4230</td>\n",
       "      <td>0.4310</td>\n",
       "      <td>0.2560</td>\n",
       "      <td>0.605201</td>\n",
       "      <td>1.404179</td>\n",
       "      <td>0.073687</td>\n",
       "      <td>1.441240</td>\n",
       "      <td>0.498856</td>\n",
       "    </tr>\n",
       "    <tr>\n",
       "      <th>3</th>\n",
       "      <td>(CookBks)</td>\n",
       "      <td>(ChildBks)</td>\n",
       "      <td>0.4310</td>\n",
       "      <td>0.4230</td>\n",
       "      <td>0.2560</td>\n",
       "      <td>0.593968</td>\n",
       "      <td>1.404179</td>\n",
       "      <td>0.073687</td>\n",
       "      <td>1.421069</td>\n",
       "      <td>0.505870</td>\n",
       "    </tr>\n",
       "    <tr>\n",
       "      <th>4</th>\n",
       "      <td>(ChildBks)</td>\n",
       "      <td>(DoItYBks)</td>\n",
       "      <td>0.4230</td>\n",
       "      <td>0.2820</td>\n",
       "      <td>0.1840</td>\n",
       "      <td>0.434988</td>\n",
       "      <td>1.542511</td>\n",
       "      <td>0.064714</td>\n",
       "      <td>1.270770</td>\n",
       "      <td>0.609543</td>\n",
       "    </tr>\n",
       "    <tr>\n",
       "      <th>...</th>\n",
       "      <td>...</td>\n",
       "      <td>...</td>\n",
       "      <td>...</td>\n",
       "      <td>...</td>\n",
       "      <td>...</td>\n",
       "      <td>...</td>\n",
       "      <td>...</td>\n",
       "      <td>...</td>\n",
       "      <td>...</td>\n",
       "      <td>...</td>\n",
       "    </tr>\n",
       "    <tr>\n",
       "      <th>657</th>\n",
       "      <td>(ArtBks)</td>\n",
       "      <td>(GeogBks, ChildBks, DoItYBks, CookBks)</td>\n",
       "      <td>0.2410</td>\n",
       "      <td>0.0890</td>\n",
       "      <td>0.0535</td>\n",
       "      <td>0.221992</td>\n",
       "      <td>2.494289</td>\n",
       "      <td>0.032051</td>\n",
       "      <td>1.170939</td>\n",
       "      <td>0.789307</td>\n",
       "    </tr>\n",
       "    <tr>\n",
       "      <th>658</th>\n",
       "      <td>(ChildBks)</td>\n",
       "      <td>(CookBks, DoItYBks, GeogBks, ArtBks)</td>\n",
       "      <td>0.4230</td>\n",
       "      <td>0.0650</td>\n",
       "      <td>0.0535</td>\n",
       "      <td>0.126478</td>\n",
       "      <td>1.945808</td>\n",
       "      <td>0.026005</td>\n",
       "      <td>1.070379</td>\n",
       "      <td>0.842417</td>\n",
       "    </tr>\n",
       "    <tr>\n",
       "      <th>659</th>\n",
       "      <td>(DoItYBks)</td>\n",
       "      <td>(CookBks, ChildBks, GeogBks, ArtBks)</td>\n",
       "      <td>0.2820</td>\n",
       "      <td>0.0835</td>\n",
       "      <td>0.0535</td>\n",
       "      <td>0.189716</td>\n",
       "      <td>2.272052</td>\n",
       "      <td>0.029953</td>\n",
       "      <td>1.131085</td>\n",
       "      <td>0.779762</td>\n",
       "    </tr>\n",
       "    <tr>\n",
       "      <th>660</th>\n",
       "      <td>(CookBks)</td>\n",
       "      <td>(GeogBks, ChildBks, DoItYBks, ArtBks)</td>\n",
       "      <td>0.4310</td>\n",
       "      <td>0.0595</td>\n",
       "      <td>0.0535</td>\n",
       "      <td>0.124130</td>\n",
       "      <td>2.086217</td>\n",
       "      <td>0.027856</td>\n",
       "      <td>1.073789</td>\n",
       "      <td>0.915050</td>\n",
       "    </tr>\n",
       "    <tr>\n",
       "      <th>661</th>\n",
       "      <td>(GeogBks)</td>\n",
       "      <td>(CookBks, ChildBks, DoItYBks, ArtBks)</td>\n",
       "      <td>0.2760</td>\n",
       "      <td>0.0820</td>\n",
       "      <td>0.0535</td>\n",
       "      <td>0.193841</td>\n",
       "      <td>2.363910</td>\n",
       "      <td>0.030868</td>\n",
       "      <td>1.138733</td>\n",
       "      <td>0.796923</td>\n",
       "    </tr>\n",
       "  </tbody>\n",
       "</table>\n",
       "<p>662 rows × 10 columns</p>\n",
       "</div>"
      ],
      "text/plain": [
       "    antecedents                             consequents  antecedent support  \\\n",
       "0    (ChildBks)                              (YouthBks)              0.4230   \n",
       "1    (YouthBks)                              (ChildBks)              0.2475   \n",
       "2    (ChildBks)                               (CookBks)              0.4230   \n",
       "3     (CookBks)                              (ChildBks)              0.4310   \n",
       "4    (ChildBks)                              (DoItYBks)              0.4230   \n",
       "..          ...                                     ...                 ...   \n",
       "657    (ArtBks)  (GeogBks, ChildBks, DoItYBks, CookBks)              0.2410   \n",
       "658  (ChildBks)    (CookBks, DoItYBks, GeogBks, ArtBks)              0.4230   \n",
       "659  (DoItYBks)    (CookBks, ChildBks, GeogBks, ArtBks)              0.2820   \n",
       "660   (CookBks)   (GeogBks, ChildBks, DoItYBks, ArtBks)              0.4310   \n",
       "661   (GeogBks)   (CookBks, ChildBks, DoItYBks, ArtBks)              0.2760   \n",
       "\n",
       "     consequent support  support  confidence      lift  leverage  conviction  \\\n",
       "0                0.2475   0.1650    0.390071  1.576044  0.060308    1.233750   \n",
       "1                0.4230   0.1650    0.666667  1.576044  0.060308    1.731000   \n",
       "2                0.4310   0.2560    0.605201  1.404179  0.073687    1.441240   \n",
       "3                0.4230   0.2560    0.593968  1.404179  0.073687    1.421069   \n",
       "4                0.2820   0.1840    0.434988  1.542511  0.064714    1.270770   \n",
       "..                  ...      ...         ...       ...       ...         ...   \n",
       "657              0.0890   0.0535    0.221992  2.494289  0.032051    1.170939   \n",
       "658              0.0650   0.0535    0.126478  1.945808  0.026005    1.070379   \n",
       "659              0.0835   0.0535    0.189716  2.272052  0.029953    1.131085   \n",
       "660              0.0595   0.0535    0.124130  2.086217  0.027856    1.073789   \n",
       "661              0.0820   0.0535    0.193841  2.363910  0.030868    1.138733   \n",
       "\n",
       "     zhangs_metric  \n",
       "0         0.633449  \n",
       "1         0.485714  \n",
       "2         0.498856  \n",
       "3         0.505870  \n",
       "4         0.609543  \n",
       "..             ...  \n",
       "657       0.789307  \n",
       "658       0.842417  \n",
       "659       0.779762  \n",
       "660       0.915050  \n",
       "661       0.796923  \n",
       "\n",
       "[662 rows x 10 columns]"
      ]
     },
     "execution_count": 22,
     "metadata": {},
     "output_type": "execute_result"
    }
   ],
   "source": [
    "rules=association_rules(frequent_itemsets,metric=\"lift\")\n",
    "rules"
   ]
  },
  {
   "cell_type": "code",
   "execution_count": 23,
   "metadata": {
    "colab": {
     "base_uri": "https://localhost:8080/",
     "height": 423
    },
    "id": "FlbSsBMplfti",
    "outputId": "6761d403-c926-4479-ca73-2f067a4badc4"
   },
   "outputs": [
    {
     "data": {
      "text/html": [
       "<div>\n",
       "<style scoped>\n",
       "    .dataframe tbody tr th:only-of-type {\n",
       "        vertical-align: middle;\n",
       "    }\n",
       "\n",
       "    .dataframe tbody tr th {\n",
       "        vertical-align: top;\n",
       "    }\n",
       "\n",
       "    .dataframe thead th {\n",
       "        text-align: right;\n",
       "    }\n",
       "</style>\n",
       "<table border=\"1\" class=\"dataframe\">\n",
       "  <thead>\n",
       "    <tr style=\"text-align: right;\">\n",
       "      <th></th>\n",
       "      <th>antecedents</th>\n",
       "      <th>consequents</th>\n",
       "      <th>antecedent support</th>\n",
       "      <th>consequent support</th>\n",
       "      <th>support</th>\n",
       "      <th>confidence</th>\n",
       "      <th>lift</th>\n",
       "      <th>leverage</th>\n",
       "      <th>conviction</th>\n",
       "      <th>zhangs_metric</th>\n",
       "    </tr>\n",
       "  </thead>\n",
       "  <tbody>\n",
       "    <tr>\n",
       "      <th>183</th>\n",
       "      <td>(ItalCook)</td>\n",
       "      <td>(YouthBks, CookBks)</td>\n",
       "      <td>0.1135</td>\n",
       "      <td>0.1620</td>\n",
       "      <td>0.0590</td>\n",
       "      <td>0.519824</td>\n",
       "      <td>3.208789</td>\n",
       "      <td>0.040613</td>\n",
       "      <td>1.745193</td>\n",
       "      <td>0.776487</td>\n",
       "    </tr>\n",
       "    <tr>\n",
       "      <th>182</th>\n",
       "      <td>(YouthBks, CookBks)</td>\n",
       "      <td>(ItalCook)</td>\n",
       "      <td>0.1620</td>\n",
       "      <td>0.1135</td>\n",
       "      <td>0.0590</td>\n",
       "      <td>0.364198</td>\n",
       "      <td>3.208789</td>\n",
       "      <td>0.040613</td>\n",
       "      <td>1.394301</td>\n",
       "      <td>0.821427</td>\n",
       "    </tr>\n",
       "    <tr>\n",
       "      <th>508</th>\n",
       "      <td>(ChildBks, ItalCook)</td>\n",
       "      <td>(GeogBks, CookBks)</td>\n",
       "      <td>0.0850</td>\n",
       "      <td>0.1925</td>\n",
       "      <td>0.0525</td>\n",
       "      <td>0.617647</td>\n",
       "      <td>3.208556</td>\n",
       "      <td>0.036137</td>\n",
       "      <td>2.111923</td>\n",
       "      <td>0.752277</td>\n",
       "    </tr>\n",
       "    <tr>\n",
       "      <th>513</th>\n",
       "      <td>(GeogBks, CookBks)</td>\n",
       "      <td>(ChildBks, ItalCook)</td>\n",
       "      <td>0.1925</td>\n",
       "      <td>0.0850</td>\n",
       "      <td>0.0525</td>\n",
       "      <td>0.272727</td>\n",
       "      <td>3.208556</td>\n",
       "      <td>0.036137</td>\n",
       "      <td>1.258125</td>\n",
       "      <td>0.852425</td>\n",
       "    </tr>\n",
       "    <tr>\n",
       "      <th>510</th>\n",
       "      <td>(ChildBks, CookBks)</td>\n",
       "      <td>(ItalCook, GeogBks)</td>\n",
       "      <td>0.2560</td>\n",
       "      <td>0.0640</td>\n",
       "      <td>0.0525</td>\n",
       "      <td>0.205078</td>\n",
       "      <td>3.204346</td>\n",
       "      <td>0.036116</td>\n",
       "      <td>1.177474</td>\n",
       "      <td>0.924629</td>\n",
       "    </tr>\n",
       "    <tr>\n",
       "      <th>...</th>\n",
       "      <td>...</td>\n",
       "      <td>...</td>\n",
       "      <td>...</td>\n",
       "      <td>...</td>\n",
       "      <td>...</td>\n",
       "      <td>...</td>\n",
       "      <td>...</td>\n",
       "      <td>...</td>\n",
       "      <td>...</td>\n",
       "      <td>...</td>\n",
       "    </tr>\n",
       "    <tr>\n",
       "      <th>5</th>\n",
       "      <td>(DoItYBks)</td>\n",
       "      <td>(ChildBks)</td>\n",
       "      <td>0.2820</td>\n",
       "      <td>0.4230</td>\n",
       "      <td>0.1840</td>\n",
       "      <td>0.652482</td>\n",
       "      <td>1.542511</td>\n",
       "      <td>0.064714</td>\n",
       "      <td>1.660347</td>\n",
       "      <td>0.489842</td>\n",
       "    </tr>\n",
       "    <tr>\n",
       "      <th>14</th>\n",
       "      <td>(YouthBks)</td>\n",
       "      <td>(CookBks)</td>\n",
       "      <td>0.2475</td>\n",
       "      <td>0.4310</td>\n",
       "      <td>0.1620</td>\n",
       "      <td>0.654545</td>\n",
       "      <td>1.518667</td>\n",
       "      <td>0.055328</td>\n",
       "      <td>1.647105</td>\n",
       "      <td>0.453858</td>\n",
       "    </tr>\n",
       "    <tr>\n",
       "      <th>15</th>\n",
       "      <td>(CookBks)</td>\n",
       "      <td>(YouthBks)</td>\n",
       "      <td>0.4310</td>\n",
       "      <td>0.2475</td>\n",
       "      <td>0.1620</td>\n",
       "      <td>0.375870</td>\n",
       "      <td>1.518667</td>\n",
       "      <td>0.055328</td>\n",
       "      <td>1.205678</td>\n",
       "      <td>0.600225</td>\n",
       "    </tr>\n",
       "    <tr>\n",
       "      <th>3</th>\n",
       "      <td>(CookBks)</td>\n",
       "      <td>(ChildBks)</td>\n",
       "      <td>0.4310</td>\n",
       "      <td>0.4230</td>\n",
       "      <td>0.2560</td>\n",
       "      <td>0.593968</td>\n",
       "      <td>1.404179</td>\n",
       "      <td>0.073687</td>\n",
       "      <td>1.421069</td>\n",
       "      <td>0.505870</td>\n",
       "    </tr>\n",
       "    <tr>\n",
       "      <th>2</th>\n",
       "      <td>(ChildBks)</td>\n",
       "      <td>(CookBks)</td>\n",
       "      <td>0.4230</td>\n",
       "      <td>0.4310</td>\n",
       "      <td>0.2560</td>\n",
       "      <td>0.605201</td>\n",
       "      <td>1.404179</td>\n",
       "      <td>0.073687</td>\n",
       "      <td>1.441240</td>\n",
       "      <td>0.498856</td>\n",
       "    </tr>\n",
       "  </tbody>\n",
       "</table>\n",
       "<p>662 rows × 10 columns</p>\n",
       "</div>"
      ],
      "text/plain": [
       "              antecedents           consequents  antecedent support  \\\n",
       "183            (ItalCook)   (YouthBks, CookBks)              0.1135   \n",
       "182   (YouthBks, CookBks)            (ItalCook)              0.1620   \n",
       "508  (ChildBks, ItalCook)    (GeogBks, CookBks)              0.0850   \n",
       "513    (GeogBks, CookBks)  (ChildBks, ItalCook)              0.1925   \n",
       "510   (ChildBks, CookBks)   (ItalCook, GeogBks)              0.2560   \n",
       "..                    ...                   ...                 ...   \n",
       "5              (DoItYBks)            (ChildBks)              0.2820   \n",
       "14             (YouthBks)             (CookBks)              0.2475   \n",
       "15              (CookBks)            (YouthBks)              0.4310   \n",
       "3               (CookBks)            (ChildBks)              0.4310   \n",
       "2              (ChildBks)             (CookBks)              0.4230   \n",
       "\n",
       "     consequent support  support  confidence      lift  leverage  conviction  \\\n",
       "183              0.1620   0.0590    0.519824  3.208789  0.040613    1.745193   \n",
       "182              0.1135   0.0590    0.364198  3.208789  0.040613    1.394301   \n",
       "508              0.1925   0.0525    0.617647  3.208556  0.036137    2.111923   \n",
       "513              0.0850   0.0525    0.272727  3.208556  0.036137    1.258125   \n",
       "510              0.0640   0.0525    0.205078  3.204346  0.036116    1.177474   \n",
       "..                  ...      ...         ...       ...       ...         ...   \n",
       "5                0.4230   0.1840    0.652482  1.542511  0.064714    1.660347   \n",
       "14               0.4310   0.1620    0.654545  1.518667  0.055328    1.647105   \n",
       "15               0.2475   0.1620    0.375870  1.518667  0.055328    1.205678   \n",
       "3                0.4230   0.2560    0.593968  1.404179  0.073687    1.421069   \n",
       "2                0.4310   0.2560    0.605201  1.404179  0.073687    1.441240   \n",
       "\n",
       "     zhangs_metric  \n",
       "183       0.776487  \n",
       "182       0.821427  \n",
       "508       0.752277  \n",
       "513       0.852425  \n",
       "510       0.924629  \n",
       "..             ...  \n",
       "5         0.489842  \n",
       "14        0.453858  \n",
       "15        0.600225  \n",
       "3         0.505870  \n",
       "2         0.498856  \n",
       "\n",
       "[662 rows x 10 columns]"
      ]
     },
     "execution_count": 23,
     "metadata": {},
     "output_type": "execute_result"
    }
   ],
   "source": [
    "rules.sort_values(by='lift',ascending=False)"
   ]
  },
  {
   "cell_type": "code",
   "execution_count": 24,
   "metadata": {
    "colab": {
     "base_uri": "https://localhost:8080/",
     "height": 1000
    },
    "id": "3Xl9XBbnlfxd",
    "outputId": "2b830d57-77f8-444e-d23f-6bfc04a795a1"
   },
   "outputs": [
    {
     "data": {
      "image/png": "[encoded data removed]",
      "text/plain": [
       "<Figure size 1500x1500 with 4 Axes>"
      ]
     },
     "metadata": {},
     "output_type": "display_data"
    }
   ],
   "source": [
    "rules[['support','confidence','lift']].hist(figsize=(15,15))\n",
    "plt.show()"
   ]
  },
  {
   "cell_type": "code",
   "execution_count": 25,
   "metadata": {
    "colab": {
     "base_uri": "https://localhost:8080/",
     "height": 445
    },
    "id": "_LDIVTK3lf1O",
    "outputId": "8b1c2fd6-0fb8-4fb6-a833-b799abeeb79f"
   },
   "outputs": [
    {
     "data": {
      "image/png": "[encoded data removed]",
      "text/plain": [
       "<Figure size 1500x500 with 1 Axes>"
      ]
     },
     "metadata": {},
     "output_type": "display_data"
    }
   ],
   "source": [
    "rules[['support']].boxplot(figsize=(15,5))\n",
    "plt.show()"
   ]
  },
  {
   "cell_type": "code",
   "execution_count": 26,
   "metadata": {
    "colab": {
     "base_uri": "https://localhost:8080/",
     "height": 445
    },
    "id": "djxXlk-Olf4m",
    "outputId": "9a4c5498-c903-42ad-8c48-76128f02853c"
   },
   "outputs": [
    {
     "data": {
      "image/png": "[encoded data removed]",
      "text/plain": [
       "<Figure size 1500x500 with 1 Axes>"
      ]
     },
     "metadata": {},
     "output_type": "display_data"
    }
   ],
   "source": [
    "rules[['confidence']].boxplot(figsize=(15,5))\n",
    "plt.show()"
   ]
  },
  {
   "cell_type": "code",
   "execution_count": 27,
   "metadata": {
    "colab": {
     "base_uri": "https://localhost:8080/",
     "height": 467
    },
    "id": "h9rHMLbZlf7P",
    "outputId": "032da3ab-269e-4480-95ee-8aa5a9d870fa"
   },
   "outputs": [
    {
     "data": {
      "text/plain": [
       "<Axes: >"
      ]
     },
     "execution_count": 27,
     "metadata": {},
     "output_type": "execute_result"
    },
    {
     "data": {
      "image/png": "[encoded data removed]",
      "text/plain": [
       "<Figure size 1500x500 with 1 Axes>"
      ]
     },
     "metadata": {},
     "output_type": "display_data"
    }
   ],
   "source": [
    "rules[['lift']].boxplot(figsize=(15,5))"
   ]
  },
  {
   "cell_type": "code",
   "execution_count": 28,
   "metadata": {
    "colab": {
     "base_uri": "https://localhost:8080/",
     "height": 430
    },
    "id": "VDbQ9AWqlWz_",
    "outputId": "912aa2ac-91dd-44e2-e9b2-2f2b77e339c9"
   },
   "outputs": [
    {
     "data": {
      "image/png": "[encoded data removed]",
      "text/plain": [
       "<Figure size 640x480 with 1 Axes>"
      ]
     },
     "metadata": {},
     "output_type": "display_data"
    }
   ],
   "source": [
    "plt.scatter(rules['support'],rules['confidence'])\n",
    "plt.show()"
   ]
  },
  {
   "cell_type": "code",
   "execution_count": 29,
   "metadata": {
    "colab": {
     "base_uri": "https://localhost:8080/",
     "height": 435
    },
    "id": "ojduo1A3lW3f",
    "outputId": "638aeab0-81b5-48d6-ddc5-154c487eb03b"
   },
   "outputs": [
    {
     "data": {
      "image/png": "[encoded data removed]",
      "text/plain": [
       "<Figure size 640x480 with 1 Axes>"
      ]
     },
     "metadata": {},
     "output_type": "display_data"
    }
   ],
   "source": [
    "plt.scatter(rules['confidence'],rules['lift'])\n",
    "plt.show()"
   ]
  },
  {
   "cell_type": "code",
   "execution_count": 30,
   "metadata": {
    "colab": {
     "base_uri": "https://localhost:8080/",
     "height": 430
    },
    "id": "yn0ZFuiXlW6Q",
    "outputId": "9b079b46-52b8-4f51-9ba6-0648ef420e56"
   },
   "outputs": [
    {
     "data": {
      "image/png": "[encoded data removed]",
      "text/plain": [
       "<Figure size 640x480 with 1 Axes>"
      ]
     },
     "metadata": {},
     "output_type": "display_data"
    }
   ],
   "source": [
    "plt.scatter(rules['lift'],rules['support'])\n",
    "plt.show()"
   ]
  },
  {
   "cell_type": "markdown",
   "metadata": {
    "id": "j9LeW2HcYDgx"
   },
   "source": [
    "# Here, we have shown the different types of graphs, like the histogram, boxplot, and scatter plot, by considering the columns support, confidence, and lift."
   ]
  },
  {
   "cell_type": "code",
   "execution_count": null,
   "metadata": {},
   "outputs": [],
   "source": []
  }
 ],
 "metadata": {
  "colab": {
   "provenance": []
  },
  "kernelspec": {
   "display_name": "Python 3 (ipykernel)",
   "language": "python",
   "name": "python3"
  },
  "language_info": {
   "codemirror_mode": {
    "name": "ipython",
    "version": 3
   },
   "file_extension": ".py",
   "mimetype": "text/x-python",
   "name": "python",
   "nbconvert_exporter": "python",
   "pygments_lexer": "ipython3",
   "version": "3.11.3"
  }
 },
 "nbformat": 4,
 "nbformat_minor": 1
}
